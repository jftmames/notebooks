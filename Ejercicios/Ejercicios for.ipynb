{
 "cells": [
  {
   "cell_type": "markdown",
   "metadata": {},
   "source": [
    "Imprime la tabla de multiplicar del número dado, empieza en 2"
   ]
  },
  {
   "cell_type": "code",
   "execution_count": 31,
   "metadata": {
    "scrolled": true
   },
   "outputs": [
    {
     "name": "stdout",
     "output_type": "stream",
     "text": [
      "1*2 = 2\n",
      "2*2 = 4\n",
      "3*2 = 6\n",
      "4*2 = 8\n",
      "5*2 = 10\n",
      "6*2 = 12\n",
      "7*2 = 14\n",
      "8*2 = 16\n",
      "9*2 = 18\n",
      "10*2 = 20\n"
     ]
    }
   ],
   "source": [
    "n=2\n",
    "for i in range(1,11):\n",
    "    print(f\"{i}*{n} = {n*i}\")\n"
   ]
  },
  {
   "cell_type": "code",
   "execution_count": 33,
   "metadata": {
    "scrolled": false
   },
   "outputs": [
    {
     "name": "stdout",
     "output_type": "stream",
     "text": [
      "La tabla de multiplicar: 8\n",
      "1*8 = 8\n",
      "2*8 = 16\n",
      "3*8 = 24\n",
      "4*8 = 32\n",
      "5*8 = 40\n",
      "6*8 = 48\n",
      "7*8 = 56\n",
      "8*8 = 64\n",
      "9*8 = 72\n",
      "10*8 = 80\n"
     ]
    }
   ],
   "source": [
    "nume = int(input('La tabla de multiplicar: '))\n",
    "for i in range(1,11):\n",
    "    print(f\"{i}*{nume} = {nume*i}\")"
   ]
  },
  {
   "cell_type": "code",
   "execution_count": 34,
   "metadata": {},
   "outputs": [
    {
     "name": "stdout",
     "output_type": "stream",
     "text": [
      "La tabla de multiplicar: 8\n",
      "8\n",
      "16\n",
      "24\n",
      "32\n",
      "40\n",
      "48\n",
      "56\n",
      "64\n",
      "72\n",
      "80\n"
     ]
    }
   ],
   "source": [
    "n = int(input('La tabla de multiplicar: '))\n",
    "for i in range(1,11):\n",
    "    producto = i*n\n",
    "    print(producto)\n",
    "    #print(f\"{i}*{nume} = {nume*i}\")"
   ]
  },
  {
   "cell_type": "markdown",
   "metadata": {},
   "source": [
    "Use un bucle para mostrar elementos de una lista determinada que están presentes en posiciones pares"
   ]
  },
  {
   "cell_type": "code",
   "execution_count": 36,
   "metadata": {},
   "outputs": [],
   "source": [
    "lista = [12, 15, 33, 42, 55, 75, 199, 132, 151, 180, 200]"
   ]
  },
  {
   "cell_type": "code",
   "execution_count": 38,
   "metadata": {},
   "outputs": [
    {
     "name": "stdout",
     "output_type": "stream",
     "text": [
      "12\n",
      "33\n",
      "55\n",
      "199\n",
      "151\n",
      "200\n"
     ]
    }
   ],
   "source": [
    "a = 0\n",
    "while a < len(lista):\n",
    "    print(lista[a])\n",
    "    a = a+2\n",
    "    "
   ]
  },
  {
   "cell_type": "code",
   "execution_count": 45,
   "metadata": {
    "scrolled": true
   },
   "outputs": [
    {
     "name": "stdout",
     "output_type": "stream",
     "text": [
      "12\n",
      "33\n",
      "55\n",
      "199\n",
      "151\n",
      "200\n"
     ]
    }
   ],
   "source": [
    "lista = [12, 15, 33, 42, 55, 75, 199, 132, 151, 180, 200]\n",
    "for i in lista[0::2]:\n",
    "    print(i)\n"
   ]
  },
  {
   "cell_type": "code",
   "execution_count": 46,
   "metadata": {},
   "outputs": [
    {
     "name": "stdout",
     "output_type": "stream",
     "text": [
      "1\n",
      "4\n",
      "89\n"
     ]
    }
   ],
   "source": [
    "for i in range(len(list)):\n",
    "    if i%2==0:\n",
    "        print(f\"{list[i]}\")"
   ]
  },
  {
   "cell_type": "code",
   "execution_count": 50,
   "metadata": {},
   "outputs": [],
   "source": [
    "lista_ = [\"carmen\",\"elena\",\"lucia\",\"sara\",\"patricia\",\"sonsoles\"]"
   ]
  },
  {
   "cell_type": "code",
   "execution_count": 51,
   "metadata": {},
   "outputs": [
    {
     "name": "stdout",
     "output_type": "stream",
     "text": [
      "carmen\n",
      "elena\n",
      "lucia\n",
      "sara\n",
      "patricia\n",
      "sonsoles\n"
     ]
    }
   ],
   "source": [
    "for x in range(0,len(lista_)):\n",
    "    print(lista_[x])"
   ]
  },
  {
   "cell_type": "markdown",
   "metadata": {},
   "source": [
    "Dada una lista, iterarla y mostrar números que son divisibles por 5 y si encuentra un número mayor que 150, detenga la iteración del ciclo.\n",
    "\n",
    "list1 = [12, 15, 32, 42, 55, 75, 122, 132, 150, 180, 200]\n"
   ]
  },
  {
   "cell_type": "code",
   "execution_count": 54,
   "metadata": {},
   "outputs": [
    {
     "name": "stdout",
     "output_type": "stream",
     "text": [
      "15\n",
      "55\n",
      "75\n",
      "150\n"
     ]
    }
   ],
   "source": [
    "list1 = [12, 15, 32, 42, 55, 75, 122, 132, 150, 180, 200]\n",
    "for i in list1:\n",
    "    if i > 150:\n",
    "        break\n",
    "    if i%5 == 0:\n",
    "         print(i)"
   ]
  },
  {
   "cell_type": "markdown",
   "metadata": {},
   "source": [
    "Muestre -10 a -1 usando el bucle for"
   ]
  },
  {
   "cell_type": "code",
   "execution_count": 58,
   "metadata": {},
   "outputs": [
    {
     "name": "stdout",
     "output_type": "stream",
     "text": [
      "-10\n",
      "-9\n",
      "-8\n",
      "-7\n",
      "-6\n",
      "-5\n",
      "-4\n",
      "-3\n",
      "-2\n",
      "-1\n"
     ]
    }
   ],
   "source": [
    "for i in range(-10,0):\n",
    " print(i)"
   ]
  },
  {
   "cell_type": "markdown",
   "metadata": {},
   "source": [
    "Mostrar un mensaje \"Listo\" después de la ejecución exitosa del bucle for\n",
    "Por ejemplo, \n",
    "\n",
    "para i en el rango (5):\n",
    "    imprimir (i)"
   ]
  },
  {
   "cell_type": "code",
   "execution_count": null,
   "metadata": {},
   "outputs": [],
   "source": []
  }
 ],
 "metadata": {
  "kernelspec": {
   "display_name": "Python 3",
   "language": "python",
   "name": "python3"
  },
  "language_info": {
   "codemirror_mode": {
    "name": "ipython",
    "version": 3
   },
   "file_extension": ".py",
   "mimetype": "text/x-python",
   "name": "python",
   "nbconvert_exporter": "python",
   "pygments_lexer": "ipython3",
   "version": "3.8.3"
  }
 },
 "nbformat": 4,
 "nbformat_minor": 4
}
