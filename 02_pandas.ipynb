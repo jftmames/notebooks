{
 "cells": [
  {
   "cell_type": "markdown",
   "metadata": {},
   "source": [
    "# Introducción a Pandas"
   ]
  },
  {
   "cell_type": "markdown",
   "metadata": {
    "collapsed": true
   },
   "source": [
    "Pandas es una librería de Python utilizada para tratar datos en forma de tabla. Nos permite importar, exportar y hacer las operaciones habituales que nos permiten otras herramientas como Excel o el lenguaje SQL"
   ]
  },
  {
   "cell_type": "markdown",
   "metadata": {},
   "source": [
    "## Importación y exportación\n",
    "\n",
    "Podemos importar datos a DataFrames de Pandas de diferentes orígenes y formatos, entre ellos:\n",
    "\n",
    "* De CSV: con [`read_csv`](https://pandas.pydata.org/pandas-docs/stable/generated/pandas.read_csv.html)\n",
    "* De Excel: con [`read_excel`](https://pandas.pydata.org/pandas-docs/stable/generated/pandas.read_excel.html)\n",
    "* De base de datos: con [`read_sql`](https://pandas.pydata.org/pandas-docs/stable/generated/pandas.read_sql.html)"
   ]
  },
  {
   "cell_type": "markdown",
   "metadata": {},
   "source": [
    "Como ejemplo, vamos a importar unos datos que tenemos en CSV con precios de alquileres en los distritos de Madrid:"
   ]
  },
  {
   "cell_type": "code",
   "execution_count": 5,
   "metadata": {},
   "outputs": [
    {
     "data": {
      "text/html": [
       "<div>\n",
       "<style scoped>\n",
       "    .dataframe tbody tr th:only-of-type {\n",
       "        vertical-align: middle;\n",
       "    }\n",
       "\n",
       "    .dataframe tbody tr th {\n",
       "        vertical-align: top;\n",
       "    }\n",
       "\n",
       "    .dataframe thead th {\n",
       "        text-align: right;\n",
       "    }\n",
       "</style>\n",
       "<table border=\"1\" class=\"dataframe\">\n",
       "  <thead>\n",
       "    <tr style=\"text-align: right;\">\n",
       "      <th></th>\n",
       "      <th>distrito</th>\n",
       "      <th>ano</th>\n",
       "      <th>quarter</th>\n",
       "      <th>precio</th>\n",
       "    </tr>\n",
       "  </thead>\n",
       "  <tbody>\n",
       "    <tr>\n",
       "      <th>0</th>\n",
       "      <td>Arganzuela</td>\n",
       "      <td>2007</td>\n",
       "      <td>2</td>\n",
       "      <td>13.066587</td>\n",
       "    </tr>\n",
       "    <tr>\n",
       "      <th>1</th>\n",
       "      <td>Barajas</td>\n",
       "      <td>2007</td>\n",
       "      <td>2</td>\n",
       "      <td>11.199855</td>\n",
       "    </tr>\n",
       "    <tr>\n",
       "      <th>2</th>\n",
       "      <td>Carabanchel</td>\n",
       "      <td>2007</td>\n",
       "      <td>2</td>\n",
       "      <td>11.127661</td>\n",
       "    </tr>\n",
       "    <tr>\n",
       "      <th>3</th>\n",
       "      <td>Centro</td>\n",
       "      <td>2007</td>\n",
       "      <td>2</td>\n",
       "      <td>17.746404</td>\n",
       "    </tr>\n",
       "    <tr>\n",
       "      <th>4</th>\n",
       "      <td>Chamartín</td>\n",
       "      <td>2007</td>\n",
       "      <td>2</td>\n",
       "      <td>14.386480</td>\n",
       "    </tr>\n",
       "  </tbody>\n",
       "</table>\n",
       "</div>"
      ],
      "text/plain": [
       "      distrito   ano  quarter     precio\n",
       "0   Arganzuela  2007        2  13.066587\n",
       "1      Barajas  2007        2  11.199855\n",
       "2  Carabanchel  2007        2  11.127661\n",
       "3       Centro  2007        2  17.746404\n",
       "4    Chamartín  2007        2  14.386480"
      ]
     },
     "execution_count": 5,
     "metadata": {},
     "output_type": "execute_result"
    }
   ],
   "source": [
    "import pandas as pd\n",
    "\n",
    "alquiler = pd.read_csv('dat/alquiler-madrid-distritos.csv', index_col=False)\n",
    "alquiler.head()"
   ]
  },
  {
   "cell_type": "markdown",
   "metadata": {},
   "source": [
    "También podemos exportar esos datos a CSV haciendo:"
   ]
  },
  {
   "cell_type": "code",
   "execution_count": 7,
   "metadata": {},
   "outputs": [],
   "source": [
    "alquiler.to_csv('alquiler.csv')"
   ]
  },
  {
   "cell_type": "markdown",
   "metadata": {},
   "source": [
    "#### Ejercicio \n",
    "\n",
    "Comprueba que se ha guardado el fichero correctamente. Antes de nada, tendrás que ubicarlo en tu disco duro. Debería estar en el directorio en el que se guardan los _notebooks_."
   ]
  },
  {
   "cell_type": "markdown",
   "metadata": {},
   "source": [
    "#### SQL\n"
   ]
  },
  {
   "cell_type": "code",
   "execution_count": 9,
   "metadata": {},
   "outputs": [],
   "source": [
    "import sqlite3\n",
    "import datetime as dt\n",
    "import pandas as pd\n",
    "import numpy as np"
   ]
  },
  {
   "cell_type": "code",
   "execution_count": 10,
   "metadata": {},
   "outputs": [],
   "source": [
    "conn = sqlite3.connect('pybodb.sqlite') \n",
    "# ejemplo con PostgreSQL usando psycopg2 \n",
    "# import psycopg2 \n",
    "# conn = psycopg2.connect(database='ejemplodb', user='kiko')  \n",
    "# ejemplo con MS ACCESS usando pyodbc (sí, en el trabajo tengo que usar estas cosas) \n",
    "# import pyodbc \n",
    "# conn = pyodbc.connect(\"Driver={Microsoft Access Driver (*.mdb, *.accdb)};DBQ=ejemplodb;\")  \n",
    "# ..."
   ]
  },
  {
   "cell_type": "markdown",
   "metadata": {},
   "source": [
    "Vamos a crear un DataFrame que usaremos como una tabla para insertar en la base de datos. Este DataFrame tendrá una columna de fechas, una de medidas de temperatura promedio diaria (inventada), una de precipitación acumulada en 24h (inventada), una columna con el tipo de sensor que midió la temperatura ese día y una última con el sensor que midió la precipitación."
   ]
  },
  {
   "cell_type": "code",
   "execution_count": 11,
   "metadata": {},
   "outputs": [],
   "source": [
    "# fechas para cada día del 2014\n",
    "fechas = pd.date_range(dt.datetime(2014, 1, 1), dt.datetime(2014, 12, 31))\n",
    "# Temperatura media diaria durante 2014 en algún lugar del hemisferio Norte\n",
    "tmed = (np.random.randint(-5, 5, size = 365) +\n",
    "        20 * np.cos(np.arange(0 - 180, 365 - 180) * 2 * np.pi / 365)\n",
    "        + 10)\n",
    "# Precipitación acumulada en 24h\n",
    "prec = (20 * np.abs(np.random.randn(365) *\n",
    "        np.cos(np.arange(0, 365) * 2 * np.pi / 365)))\n",
    "# Sensor que midió la temperatura\n",
    "marcaT = np.random.choice(['marcaT1', 'marcaT2', 'marcaT3'], size = 365)\n",
    "# Sensor midió la precipitación\n",
    "marcaP = np.random.choice(['marcaP1', 'marcaP2'], size = 365)\n",
    "# Creamos el dataframe y lo guardamos en una tabla llamada 'datos'\n",
    "df = pd.DataFrame(\n",
    "        np.array([fechas.values, tmed, prec, marcaT, marcaP]).T,\n",
    "        columns = ['fecha', 'tmedia','precipitacion','sensorT','sensorP'])\n",
    "df['fecha'] = pd.to_datetime(df['fecha'])\n",
    "df.to_sql('datos', con = conn, dtype = {'time': 'TIMESTAMP'})"
   ]
  },
  {
   "cell_type": "markdown",
   "metadata": {},
   "source": [
    "Vamos a crear una segunda tabla para añadir un poco de complejidad a las consultas que hagamos posteriormente a la base de datos. Esta tabla contendrá información de los sensores usados para las medidas."
   ]
  },
  {
   "cell_type": "code",
   "execution_count": 12,
   "metadata": {},
   "outputs": [],
   "source": [
    "# fechas para cada día del 2014\n",
    "sensores = ['marcaT1', 'marcaT2', 'marcaT3',\n",
    "            'marcaP1', 'marcaP2']\n",
    "# Precisión de los sensores\n",
    "precision = [0.1, 0.5, 1,\n",
    "             2, 5]\n",
    "df = pd.DataFrame({'sensores': sensores, 'precision': precision})\n",
    "df.to_sql('sensores', con = conn)"
   ]
  },
  {
   "cell_type": "markdown",
   "metadata": {},
   "source": [
    "Como SQL no hace distinción de mayúsculas y minúsculas usaré mayúsculas para las palabras clave de SQL y así las distinguiremos un poco mejor. Para hacer una petición se usa SELECT. Veamos como es una consulta para conocer las tablas que existen en la base de datos (esta consulta es específica para SQLite):"
   ]
  },
  {
   "cell_type": "code",
   "execution_count": 13,
   "metadata": {},
   "outputs": [
    {
     "name": "stdout",
     "output_type": "stream",
     "text": [
      "       name\n",
      "0     datos\n",
      "1  sensores\n"
     ]
    }
   ],
   "source": [
    "# Esto es específico para sqlite\n",
    "print(pd.read_sql(\"SELECT name FROM sqlite_master WHERE type='table';\", conn))\n"
   ]
  },
  {
   "cell_type": "markdown",
   "metadata": {},
   "source": [
    "En la consulta anterior hemos usados varias palabras clave: SELECT, FROM, WHERE. Este tipo de consultas serán de lo más habitual. Vamos a explotar lo que ya sabemos."
   ]
  },
  {
   "cell_type": "code",
   "execution_count": 14,
   "metadata": {},
   "outputs": [],
   "source": [
    "df = pd.read_sql(\"SELECT * FROM sensores;\", conn)"
   ]
  },
  {
   "cell_type": "code",
   "execution_count": 15,
   "metadata": {
    "scrolled": true
   },
   "outputs": [
    {
     "name": "stdout",
     "output_type": "stream",
     "text": [
      "   index sensores  precision\n",
      "0      0  marcaT1        0.1\n",
      "1      1  marcaT2        0.5\n",
      "2      2  marcaT3        1.0\n",
      "3      3  marcaP1        2.0\n",
      "4      4  marcaP2        5.0\n"
     ]
    }
   ],
   "source": [
    "print(df)"
   ]
  },
  {
   "cell_type": "markdown",
   "metadata": {},
   "source": [
    "Ahora queremos los datos de precipitación de Junio junto con su fecha. Fijaos que el valor superior del rango no es inclusivo (BETWEEN '2014-06-01' AND '2014-07-01' nos da el dato hasta antes de fecha = '2014-07-01'):"
   ]
  },
  {
   "cell_type": "code",
   "execution_count": 16,
   "metadata": {
    "scrolled": true
   },
   "outputs": [],
   "source": [
    "df = pd.read_sql(\"SELECT fecha, precipitacion FROM datos WHERE fecha BETWEEN '2014-06-01' AND '2014-07-01';\", conn)"
   ]
  },
  {
   "cell_type": "code",
   "execution_count": 17,
   "metadata": {
    "scrolled": false
   },
   "outputs": [
    {
     "data": {
      "text/html": [
       "<div>\n",
       "<style scoped>\n",
       "    .dataframe tbody tr th:only-of-type {\n",
       "        vertical-align: middle;\n",
       "    }\n",
       "\n",
       "    .dataframe tbody tr th {\n",
       "        vertical-align: top;\n",
       "    }\n",
       "\n",
       "    .dataframe thead th {\n",
       "        text-align: right;\n",
       "    }\n",
       "</style>\n",
       "<table border=\"1\" class=\"dataframe\">\n",
       "  <thead>\n",
       "    <tr style=\"text-align: right;\">\n",
       "      <th></th>\n",
       "      <th>fecha</th>\n",
       "      <th>precipitacion</th>\n",
       "    </tr>\n",
       "  </thead>\n",
       "  <tbody>\n",
       "    <tr>\n",
       "      <th>0</th>\n",
       "      <td>2014-06-01 00:00:00</td>\n",
       "      <td>35.467209</td>\n",
       "    </tr>\n",
       "    <tr>\n",
       "      <th>1</th>\n",
       "      <td>2014-06-02 00:00:00</td>\n",
       "      <td>13.411735</td>\n",
       "    </tr>\n",
       "    <tr>\n",
       "      <th>2</th>\n",
       "      <td>2014-06-03 00:00:00</td>\n",
       "      <td>23.687941</td>\n",
       "    </tr>\n",
       "    <tr>\n",
       "      <th>3</th>\n",
       "      <td>2014-06-04 00:00:00</td>\n",
       "      <td>2.070440</td>\n",
       "    </tr>\n",
       "    <tr>\n",
       "      <th>4</th>\n",
       "      <td>2014-06-05 00:00:00</td>\n",
       "      <td>2.548989</td>\n",
       "    </tr>\n",
       "    <tr>\n",
       "      <th>5</th>\n",
       "      <td>2014-06-06 00:00:00</td>\n",
       "      <td>11.404002</td>\n",
       "    </tr>\n",
       "    <tr>\n",
       "      <th>6</th>\n",
       "      <td>2014-06-07 00:00:00</td>\n",
       "      <td>13.158481</td>\n",
       "    </tr>\n",
       "    <tr>\n",
       "      <th>7</th>\n",
       "      <td>2014-06-08 00:00:00</td>\n",
       "      <td>16.277006</td>\n",
       "    </tr>\n",
       "    <tr>\n",
       "      <th>8</th>\n",
       "      <td>2014-06-09 00:00:00</td>\n",
       "      <td>21.690216</td>\n",
       "    </tr>\n",
       "    <tr>\n",
       "      <th>9</th>\n",
       "      <td>2014-06-10 00:00:00</td>\n",
       "      <td>42.167782</td>\n",
       "    </tr>\n",
       "    <tr>\n",
       "      <th>10</th>\n",
       "      <td>2014-06-11 00:00:00</td>\n",
       "      <td>0.377446</td>\n",
       "    </tr>\n",
       "    <tr>\n",
       "      <th>11</th>\n",
       "      <td>2014-06-12 00:00:00</td>\n",
       "      <td>27.077281</td>\n",
       "    </tr>\n",
       "    <tr>\n",
       "      <th>12</th>\n",
       "      <td>2014-06-13 00:00:00</td>\n",
       "      <td>11.348570</td>\n",
       "    </tr>\n",
       "    <tr>\n",
       "      <th>13</th>\n",
       "      <td>2014-06-14 00:00:00</td>\n",
       "      <td>13.389562</td>\n",
       "    </tr>\n",
       "    <tr>\n",
       "      <th>14</th>\n",
       "      <td>2014-06-15 00:00:00</td>\n",
       "      <td>7.078503</td>\n",
       "    </tr>\n",
       "    <tr>\n",
       "      <th>15</th>\n",
       "      <td>2014-06-16 00:00:00</td>\n",
       "      <td>34.786572</td>\n",
       "    </tr>\n",
       "    <tr>\n",
       "      <th>16</th>\n",
       "      <td>2014-06-17 00:00:00</td>\n",
       "      <td>3.278003</td>\n",
       "    </tr>\n",
       "    <tr>\n",
       "      <th>17</th>\n",
       "      <td>2014-06-18 00:00:00</td>\n",
       "      <td>8.529069</td>\n",
       "    </tr>\n",
       "    <tr>\n",
       "      <th>18</th>\n",
       "      <td>2014-06-19 00:00:00</td>\n",
       "      <td>9.238447</td>\n",
       "    </tr>\n",
       "    <tr>\n",
       "      <th>19</th>\n",
       "      <td>2014-06-20 00:00:00</td>\n",
       "      <td>5.863170</td>\n",
       "    </tr>\n",
       "    <tr>\n",
       "      <th>20</th>\n",
       "      <td>2014-06-21 00:00:00</td>\n",
       "      <td>26.892320</td>\n",
       "    </tr>\n",
       "    <tr>\n",
       "      <th>21</th>\n",
       "      <td>2014-06-22 00:00:00</td>\n",
       "      <td>28.441985</td>\n",
       "    </tr>\n",
       "    <tr>\n",
       "      <th>22</th>\n",
       "      <td>2014-06-23 00:00:00</td>\n",
       "      <td>9.990987</td>\n",
       "    </tr>\n",
       "    <tr>\n",
       "      <th>23</th>\n",
       "      <td>2014-06-24 00:00:00</td>\n",
       "      <td>1.280217</td>\n",
       "    </tr>\n",
       "    <tr>\n",
       "      <th>24</th>\n",
       "      <td>2014-06-25 00:00:00</td>\n",
       "      <td>5.425191</td>\n",
       "    </tr>\n",
       "    <tr>\n",
       "      <th>25</th>\n",
       "      <td>2014-06-26 00:00:00</td>\n",
       "      <td>10.513841</td>\n",
       "    </tr>\n",
       "    <tr>\n",
       "      <th>26</th>\n",
       "      <td>2014-06-27 00:00:00</td>\n",
       "      <td>0.175859</td>\n",
       "    </tr>\n",
       "    <tr>\n",
       "      <th>27</th>\n",
       "      <td>2014-06-28 00:00:00</td>\n",
       "      <td>37.791010</td>\n",
       "    </tr>\n",
       "    <tr>\n",
       "      <th>28</th>\n",
       "      <td>2014-06-29 00:00:00</td>\n",
       "      <td>27.186816</td>\n",
       "    </tr>\n",
       "    <tr>\n",
       "      <th>29</th>\n",
       "      <td>2014-06-30 00:00:00</td>\n",
       "      <td>1.469250</td>\n",
       "    </tr>\n",
       "  </tbody>\n",
       "</table>\n",
       "</div>"
      ],
      "text/plain": [
       "                  fecha  precipitacion\n",
       "0   2014-06-01 00:00:00      35.467209\n",
       "1   2014-06-02 00:00:00      13.411735\n",
       "2   2014-06-03 00:00:00      23.687941\n",
       "3   2014-06-04 00:00:00       2.070440\n",
       "4   2014-06-05 00:00:00       2.548989\n",
       "5   2014-06-06 00:00:00      11.404002\n",
       "6   2014-06-07 00:00:00      13.158481\n",
       "7   2014-06-08 00:00:00      16.277006\n",
       "8   2014-06-09 00:00:00      21.690216\n",
       "9   2014-06-10 00:00:00      42.167782\n",
       "10  2014-06-11 00:00:00       0.377446\n",
       "11  2014-06-12 00:00:00      27.077281\n",
       "12  2014-06-13 00:00:00      11.348570\n",
       "13  2014-06-14 00:00:00      13.389562\n",
       "14  2014-06-15 00:00:00       7.078503\n",
       "15  2014-06-16 00:00:00      34.786572\n",
       "16  2014-06-17 00:00:00       3.278003\n",
       "17  2014-06-18 00:00:00       8.529069\n",
       "18  2014-06-19 00:00:00       9.238447\n",
       "19  2014-06-20 00:00:00       5.863170\n",
       "20  2014-06-21 00:00:00      26.892320\n",
       "21  2014-06-22 00:00:00      28.441985\n",
       "22  2014-06-23 00:00:00       9.990987\n",
       "23  2014-06-24 00:00:00       1.280217\n",
       "24  2014-06-25 00:00:00       5.425191\n",
       "25  2014-06-26 00:00:00      10.513841\n",
       "26  2014-06-27 00:00:00       0.175859\n",
       "27  2014-06-28 00:00:00      37.791010\n",
       "28  2014-06-29 00:00:00      27.186816\n",
       "29  2014-06-30 00:00:00       1.469250"
      ]
     },
     "execution_count": 17,
     "metadata": {},
     "output_type": "execute_result"
    }
   ],
   "source": [
    "df"
   ]
  },
  {
   "cell_type": "markdown",
   "metadata": {},
   "source": [
    "Ahora quiero los datos de temperatura de los sensores con una precisión superior a 0.5 (el sensor marcaT1 es el único que me da precisión superior a 0.5):"
   ]
  },
  {
   "cell_type": "code",
   "execution_count": 18,
   "metadata": {},
   "outputs": [],
   "source": [
    "df = pd.read_sql((\"SELECT fecha, tmedia FROM datos WHERE datos.sensorT = 'marcaT1';\"), conn)"
   ]
  },
  {
   "cell_type": "code",
   "execution_count": 19,
   "metadata": {},
   "outputs": [
    {
     "data": {
      "text/html": [
       "<div>\n",
       "<style scoped>\n",
       "    .dataframe tbody tr th:only-of-type {\n",
       "        vertical-align: middle;\n",
       "    }\n",
       "\n",
       "    .dataframe tbody tr th {\n",
       "        vertical-align: top;\n",
       "    }\n",
       "\n",
       "    .dataframe thead th {\n",
       "        text-align: right;\n",
       "    }\n",
       "</style>\n",
       "<table border=\"1\" class=\"dataframe\">\n",
       "  <thead>\n",
       "    <tr style=\"text-align: right;\">\n",
       "      <th></th>\n",
       "      <th>fecha</th>\n",
       "      <th>tmedia</th>\n",
       "    </tr>\n",
       "  </thead>\n",
       "  <tbody>\n",
       "    <tr>\n",
       "      <th>0</th>\n",
       "      <td>2014-01-04 00:00:00</td>\n",
       "      <td>-11.910427</td>\n",
       "    </tr>\n",
       "    <tr>\n",
       "      <th>1</th>\n",
       "      <td>2014-01-06 00:00:00</td>\n",
       "      <td>-8.833546</td>\n",
       "    </tr>\n",
       "    <tr>\n",
       "      <th>2</th>\n",
       "      <td>2014-01-07 00:00:00</td>\n",
       "      <td>-11.786284</td>\n",
       "    </tr>\n",
       "    <tr>\n",
       "      <th>3</th>\n",
       "      <td>2014-01-09 00:00:00</td>\n",
       "      <td>-12.674186</td>\n",
       "    </tr>\n",
       "    <tr>\n",
       "      <th>4</th>\n",
       "      <td>2014-01-13 00:00:00</td>\n",
       "      <td>-13.380197</td>\n",
       "    </tr>\n",
       "    <tr>\n",
       "      <th>...</th>\n",
       "      <td>...</td>\n",
       "      <td>...</td>\n",
       "    </tr>\n",
       "    <tr>\n",
       "      <th>107</th>\n",
       "      <td>2014-12-18 00:00:00</td>\n",
       "      <td>-6.609383</td>\n",
       "    </tr>\n",
       "    <tr>\n",
       "      <th>108</th>\n",
       "      <td>2014-12-19 00:00:00</td>\n",
       "      <td>-10.674186</td>\n",
       "    </tr>\n",
       "    <tr>\n",
       "      <th>109</th>\n",
       "      <td>2014-12-20 00:00:00</td>\n",
       "      <td>-11.733159</td>\n",
       "    </tr>\n",
       "    <tr>\n",
       "      <th>110</th>\n",
       "      <td>2014-12-22 00:00:00</td>\n",
       "      <td>-9.833546</td>\n",
       "    </tr>\n",
       "    <tr>\n",
       "      <th>111</th>\n",
       "      <td>2014-12-24 00:00:00</td>\n",
       "      <td>-8.910427</td>\n",
       "    </tr>\n",
       "  </tbody>\n",
       "</table>\n",
       "<p>112 rows × 2 columns</p>\n",
       "</div>"
      ],
      "text/plain": [
       "                   fecha     tmedia\n",
       "0    2014-01-04 00:00:00 -11.910427\n",
       "1    2014-01-06 00:00:00  -8.833546\n",
       "2    2014-01-07 00:00:00 -11.786284\n",
       "3    2014-01-09 00:00:00 -12.674186\n",
       "4    2014-01-13 00:00:00 -13.380197\n",
       "..                   ...        ...\n",
       "107  2014-12-18 00:00:00  -6.609383\n",
       "108  2014-12-19 00:00:00 -10.674186\n",
       "109  2014-12-20 00:00:00 -11.733159\n",
       "110  2014-12-22 00:00:00  -9.833546\n",
       "111  2014-12-24 00:00:00  -8.910427\n",
       "\n",
       "[112 rows x 2 columns]"
      ]
     },
     "execution_count": 19,
     "metadata": {},
     "output_type": "execute_result"
    }
   ],
   "source": [
    "df"
   ]
  },
  {
   "cell_type": "markdown",
   "metadata": {},
   "source": [
    "Vamos a hacer una consulta que nos dé el mismo resultado pero que enlaza varias consultas (un SELECT dentro de un SELECT). También la represento de forma un poco más estructurada para que sea más legible:"
   ]
  },
  {
   "cell_type": "code",
   "execution_count": 26,
   "metadata": {},
   "outputs": [],
   "source": [
    "# La misma consulta de antes pero sin saber la precisión de cada uno de los sensores a priori\n",
    "q = \"\"\"\n",
    "SELECT \n",
    "    fecha, tmedia \n",
    "FROM \n",
    "    datos \n",
    "WHERE \n",
    "    datos.sensorT = \n",
    "    (SELECT \n",
    "        sensores \n",
    "    FROM \n",
    "        sensores \n",
    "    WHERE \n",
    "        precision < 0.5);\"\"\"\n",
    "df = pd.read_sql(q,conn)"
   ]
  },
  {
   "cell_type": "code",
   "execution_count": 21,
   "metadata": {
    "scrolled": true
   },
   "outputs": [
    {
     "data": {
      "text/html": [
       "<div>\n",
       "<style scoped>\n",
       "    .dataframe tbody tr th:only-of-type {\n",
       "        vertical-align: middle;\n",
       "    }\n",
       "\n",
       "    .dataframe tbody tr th {\n",
       "        vertical-align: top;\n",
       "    }\n",
       "\n",
       "    .dataframe thead th {\n",
       "        text-align: right;\n",
       "    }\n",
       "</style>\n",
       "<table border=\"1\" class=\"dataframe\">\n",
       "  <thead>\n",
       "    <tr style=\"text-align: right;\">\n",
       "      <th></th>\n",
       "      <th>fecha</th>\n",
       "      <th>tmedia</th>\n",
       "    </tr>\n",
       "  </thead>\n",
       "  <tbody>\n",
       "    <tr>\n",
       "      <th>0</th>\n",
       "      <td>2014-01-04 00:00:00</td>\n",
       "      <td>-11.910427</td>\n",
       "    </tr>\n",
       "    <tr>\n",
       "      <th>1</th>\n",
       "      <td>2014-01-06 00:00:00</td>\n",
       "      <td>-8.833546</td>\n",
       "    </tr>\n",
       "    <tr>\n",
       "      <th>2</th>\n",
       "      <td>2014-01-07 00:00:00</td>\n",
       "      <td>-11.786284</td>\n",
       "    </tr>\n",
       "    <tr>\n",
       "      <th>3</th>\n",
       "      <td>2014-01-09 00:00:00</td>\n",
       "      <td>-12.674186</td>\n",
       "    </tr>\n",
       "    <tr>\n",
       "      <th>4</th>\n",
       "      <td>2014-01-13 00:00:00</td>\n",
       "      <td>-13.380197</td>\n",
       "    </tr>\n",
       "    <tr>\n",
       "      <th>...</th>\n",
       "      <td>...</td>\n",
       "      <td>...</td>\n",
       "    </tr>\n",
       "    <tr>\n",
       "      <th>107</th>\n",
       "      <td>2014-12-18 00:00:00</td>\n",
       "      <td>-6.609383</td>\n",
       "    </tr>\n",
       "    <tr>\n",
       "      <th>108</th>\n",
       "      <td>2014-12-19 00:00:00</td>\n",
       "      <td>-10.674186</td>\n",
       "    </tr>\n",
       "    <tr>\n",
       "      <th>109</th>\n",
       "      <td>2014-12-20 00:00:00</td>\n",
       "      <td>-11.733159</td>\n",
       "    </tr>\n",
       "    <tr>\n",
       "      <th>110</th>\n",
       "      <td>2014-12-22 00:00:00</td>\n",
       "      <td>-9.833546</td>\n",
       "    </tr>\n",
       "    <tr>\n",
       "      <th>111</th>\n",
       "      <td>2014-12-24 00:00:00</td>\n",
       "      <td>-8.910427</td>\n",
       "    </tr>\n",
       "  </tbody>\n",
       "</table>\n",
       "<p>112 rows × 2 columns</p>\n",
       "</div>"
      ],
      "text/plain": [
       "                   fecha     tmedia\n",
       "0    2014-01-04 00:00:00 -11.910427\n",
       "1    2014-01-06 00:00:00  -8.833546\n",
       "2    2014-01-07 00:00:00 -11.786284\n",
       "3    2014-01-09 00:00:00 -12.674186\n",
       "4    2014-01-13 00:00:00 -13.380197\n",
       "..                   ...        ...\n",
       "107  2014-12-18 00:00:00  -6.609383\n",
       "108  2014-12-19 00:00:00 -10.674186\n",
       "109  2014-12-20 00:00:00 -11.733159\n",
       "110  2014-12-22 00:00:00  -9.833546\n",
       "111  2014-12-24 00:00:00  -8.910427\n",
       "\n",
       "[112 rows x 2 columns]"
      ]
     },
     "execution_count": 21,
     "metadata": {},
     "output_type": "execute_result"
    }
   ],
   "source": [
    "df"
   ]
  },
  {
   "cell_type": "markdown",
   "metadata": {},
   "source": [
    "Podemos decirle que nos pase solo una serie de valores. Por ejemplo, solo quiero los tres valores más altos de precipitación de diciembre:"
   ]
  },
  {
   "cell_type": "code",
   "execution_count": null,
   "metadata": {},
   "outputs": [],
   "source": [
    "q = \"\"\"\n",
    "SELECT \n",
    "    fecha, precipitacion \n",
    "FROM \n",
    "    datos \n",
    "WHERE \n",
    "    fecha > '2014-11-30'\n",
    "ORDER BY\n",
    "    precipitacion DESC\n",
    "LIMIT\n",
    "    3\"\"\"\n",
    "df = pd.read_sql(q, conn)"
   ]
  },
  {
   "cell_type": "code",
   "execution_count": null,
   "metadata": {
    "scrolled": true
   },
   "outputs": [],
   "source": [
    "df"
   ]
  },
  {
   "cell_type": "code",
   "execution_count": null,
   "metadata": {},
   "outputs": [],
   "source": [
    "conn.close() "
   ]
  },
  {
   "cell_type": "markdown",
   "metadata": {},
   "source": [
    "#### Ejercicio\n",
    "\n",
    "Usa la función [`read_excel`](https://pandas.pydata.org/pandas-docs/stable/generated/pandas.read_excel.html) para importar a Python alguna tabla de tu interés"
   ]
  },
  {
   "cell_type": "code",
   "execution_count": null,
   "metadata": {},
   "outputs": [],
   "source": []
  },
  {
   "cell_type": "markdown",
   "metadata": {},
   "source": [
    "## Estructura básica e inspección\n",
    "\n",
    "Las tablas en `pandas` son objetos de la clase `DataFrames`. Un `DataFrame` consta de dos partes: un índice y los datos propiamente dichos. Las columnas de los datos son de la clase `Series`."
   ]
  },
  {
   "cell_type": "markdown",
   "metadata": {},
   "source": [
    "Para consultar las columnas de un `DataFrame`, accedemos a la propiedad `columns`."
   ]
  },
  {
   "cell_type": "code",
   "execution_count": null,
   "metadata": {},
   "outputs": [],
   "source": [
    "alquiler.columns"
   ]
  },
  {
   "cell_type": "markdown",
   "metadata": {},
   "source": [
    "Si además queremos saber el tipo del dato, accedemos a la propiedad `dtypes`.\n",
    "\n",
    "*Nota*: las cadenas de texto se marcan como `object` dentro de un DataFrame"
   ]
  },
  {
   "cell_type": "code",
   "execution_count": null,
   "metadata": {},
   "outputs": [],
   "source": [
    "alquiler.dtypes"
   ]
  },
  {
   "cell_type": "markdown",
   "metadata": {},
   "source": [
    "Cada `DataFrame` tiene un índice. Si no lo hemos especificado, será un incremental sin relación con nuestros datos. El uso de índices está recomendado cuando tratamos con datos grandes, ya que permite acceder a las filas por _hash_ en lugar de tener que iterar por todas ellas para encontrar el valor que se busca. Los índices también son importantes a la hora de realizar agregaciones y cruces entre tablas.\n",
    "\n",
    "Para consultar cuál es el índice de un DataFrame, accedemos a la propiedad `index`."
   ]
  },
  {
   "cell_type": "code",
   "execution_count": null,
   "metadata": {},
   "outputs": [],
   "source": [
    "alquiler.index"
   ]
  },
  {
   "cell_type": "markdown",
   "metadata": {},
   "source": [
    "Podemos alterarlo con `set_index`. El nuevo índice puede ser una o varias columnas."
   ]
  },
  {
   "cell_type": "code",
   "execution_count": null,
   "metadata": {},
   "outputs": [],
   "source": [
    "alquiler_nuevo_indice = alquiler.set_index(['distrito', 'ano', 'quarter'])"
   ]
  },
  {
   "cell_type": "markdown",
   "metadata": {},
   "source": [
    "Una forma rápida de echar un vistazo a los datos es consultas las primeras o últimas filas del DataFrame, con las funciones `head` y `tail`."
   ]
  },
  {
   "cell_type": "code",
   "execution_count": null,
   "metadata": {},
   "outputs": [],
   "source": [
    "alquiler.head()"
   ]
  },
  {
   "cell_type": "code",
   "execution_count": null,
   "metadata": {},
   "outputs": [],
   "source": [
    "alquiler.tail()"
   ]
  },
  {
   "cell_type": "markdown",
   "metadata": {},
   "source": [
    "Podemos seleccionar un listado de columnas a devolver de la siguiente forma:"
   ]
  },
  {
   "cell_type": "code",
   "execution_count": null,
   "metadata": {},
   "outputs": [],
   "source": [
    "alquiler[['distrito', 'precio']].head()"
   ]
  },
  {
   "cell_type": "markdown",
   "metadata": {},
   "source": [
    "Para conocer el número de filas de una tabla hay varias opciones:"
   ]
  },
  {
   "cell_type": "code",
   "execution_count": null,
   "metadata": {},
   "outputs": [],
   "source": [
    "len(alquiler)"
   ]
  },
  {
   "cell_type": "code",
   "execution_count": null,
   "metadata": {},
   "outputs": [],
   "source": [
    "alquiler.shape"
   ]
  },
  {
   "cell_type": "markdown",
   "metadata": {},
   "source": [
    "##### Nota\n",
    "\n",
    "El índice no forma parte propiamente de los datos:"
   ]
  },
  {
   "cell_type": "code",
   "execution_count": null,
   "metadata": {},
   "outputs": [],
   "source": [
    "alquiler_nuevo_indice.shape"
   ]
  },
  {
   "cell_type": "markdown",
   "metadata": {},
   "source": [
    "### Ejercicio\n",
    "\n",
    "* Carga en un dataframe de pandas el csv `dat/alquiler-madrid-municipios.csv` en una variable que se llame `alquiler_municipios`\n",
    "* Examina las primeras y últimas filas\n",
    "* Extrae el número de filas y columnas"
   ]
  },
  {
   "cell_type": "code",
   "execution_count": null,
   "metadata": {},
   "outputs": [],
   "source": []
  },
  {
   "cell_type": "markdown",
   "metadata": {},
   "source": [
    "## Filtro y selección"
   ]
  },
  {
   "cell_type": "markdown",
   "metadata": {},
   "source": [
    "Hay tres operadores fundamentales para seleccionar filas y columnas: `loc`, `iloc` y `[]`. La diferencia fundamental entre `loc` e `iloc` es que el primero requiere _etiquetas_ y el segundo, índices numéricos (la `i` inicial viene de `integer`).\n",
    "\n",
    "\n",
    "### Selección por índices numéricos\n",
    "\n",
    "Para acceder por posición usando índices numéricos, se usa `iloc[]`, como en los siguientes ejemplos:"
   ]
  },
  {
   "cell_type": "code",
   "execution_count": null,
   "metadata": {},
   "outputs": [],
   "source": [
    "# por defecto, seleccionamos filas\n",
    "alquiler_nuevo_indice.iloc[200]"
   ]
  },
  {
   "cell_type": "code",
   "execution_count": null,
   "metadata": {},
   "outputs": [],
   "source": [
    "# pero también se pueden seleccionar filas y columnas\n",
    "# además, usando rangos\n",
    "alquiler.iloc[3:5, 1:]"
   ]
  },
  {
   "cell_type": "code",
   "execution_count": null,
   "metadata": {},
   "outputs": [],
   "source": [
    "# índices no consecutivos\n",
    "# recuerda: en python, se empieza a contar en 0\n",
    "alquiler.iloc[[1, 2, 4], [0, 3]]"
   ]
  },
  {
   "cell_type": "code",
   "execution_count": null,
   "metadata": {},
   "outputs": [],
   "source": [
    "# los índices negativos indican que se empieza a contar desde el final\n",
    "alquiler.iloc[-3:-1]"
   ]
  },
  {
   "cell_type": "markdown",
   "metadata": {},
   "source": [
    "### Ejercicio\n",
    "\n",
    "* Muestra las primeras 5 filas usando `iloc`\n",
    "* Muestra las últimas 5 filas usando `iloc`"
   ]
  },
  {
   "cell_type": "code",
   "execution_count": null,
   "metadata": {},
   "outputs": [],
   "source": []
  },
  {
   "cell_type": "markdown",
   "metadata": {},
   "source": [
    "### Selección por etiquetas\n",
    "\n",
    "Para acceder por _etiquetas_ (es decir, columnas parte del índice), se usa `loc[]`"
   ]
  },
  {
   "cell_type": "code",
   "execution_count": null,
   "metadata": {},
   "outputs": [],
   "source": [
    "alquiler_nuevo_indice.loc[('Centro', 2014, 2)]"
   ]
  },
  {
   "cell_type": "code",
   "execution_count": null,
   "metadata": {},
   "outputs": [],
   "source": [
    "# O un distrito completo\n",
    "alquiler_nuevo_indice.loc[('Centro')].head()"
   ]
  },
  {
   "cell_type": "markdown",
   "metadata": {},
   "source": [
    "#### Ejercicio\n",
    "\n",
    "Muestra sobre `alquiler_nuevo_indice` las filas para distrito `Retiro` y año 2012."
   ]
  },
  {
   "cell_type": "code",
   "execution_count": null,
   "metadata": {},
   "outputs": [],
   "source": []
  },
  {
   "cell_type": "markdown",
   "metadata": {},
   "source": [
    "### Selección por condiciones\n",
    "\n",
    "Para extraer las filas que cumplen una condición, le pasamos al DataFrame una Series de booleanos, o directamente algo que la devuelva."
   ]
  },
  {
   "cell_type": "code",
   "execution_count": null,
   "metadata": {},
   "outputs": [],
   "source": [
    "alquiler[alquiler.distrito == 'Retiro'].head()"
   ]
  },
  {
   "cell_type": "markdown",
   "metadata": {},
   "source": [
    "**Nota:** mira cómo en el código anterior hemos seleccionado la columna `distrito` usando un punto, `alquiler.distrito`. Es una alternativa a la notación mediante corchetes, `alquiler['distrito']`.\n",
    "\n",
    "**Para profundizar:** puedes leer las diferentes ventajas e inconvenientes de la notación punto con respecto a la de corchetes [aquí](https://www.dataschool.io/pandas-dot-notation-vs-brackets/) y decidir cuál prefieres utilizar.\n",
    "\n",
    "Podemos combinar varias condiciones con `&` (y lógico) y `|` (o lógico)"
   ]
  },
  {
   "cell_type": "code",
   "execution_count": null,
   "metadata": {},
   "outputs": [],
   "source": [
    "# No olvides los paréntesis, es importante por prioridad de operandos!\n",
    "\n",
    "alquiler[(alquiler.distrito == 'Retiro') & (alquiler.ano == 2012)]"
   ]
  },
  {
   "cell_type": "markdown",
   "metadata": {},
   "source": [
    "#### Ejercicio\n",
    "\n",
    "Extrae los nombres de los distritos cuyo precio por metro cuadrado es superior a 15€ en el año y trimestre más reciente del que tenemos datos (míralo imprimiento las últimas filas de la tabla)."
   ]
  },
  {
   "cell_type": "code",
   "execution_count": null,
   "metadata": {},
   "outputs": [],
   "source": [
    "# 1. Imprime las últimas filas de la tabla"
   ]
  },
  {
   "cell_type": "code",
   "execution_count": null,
   "metadata": {},
   "outputs": [],
   "source": [
    "# 2. Haz el filtro. Una vez hecho, saca solo la columna distrito"
   ]
  },
  {
   "cell_type": "markdown",
   "metadata": {},
   "source": [
    "## Ordenación\n",
    "\n",
    "Podemos ordenar un DataFrame por una o varias columnas, de forma ascendente o descendente, con [`sort_values`](https://pandas.pydata.org/pandas-docs/stable/generated/pandas.DataFrame.sort_values.html)"
   ]
  },
  {
   "cell_type": "code",
   "execution_count": null,
   "metadata": {},
   "outputs": [],
   "source": [
    "alquiler.sort_values('distrito', ascending=True).head()"
   ]
  },
  {
   "cell_type": "code",
   "execution_count": null,
   "metadata": {},
   "outputs": [],
   "source": [
    "alquiler.sort_values(['ano', 'quarter', 'distrito'], ascending=[False, False, True]).head()"
   ]
  },
  {
   "cell_type": "markdown",
   "metadata": {},
   "source": [
    "#### Ejercicio\n",
    "\n",
    "Extrae de mayor a menor por precio las filas de la tabla para Tetuán a partir del año 2017."
   ]
  },
  {
   "cell_type": "code",
   "execution_count": null,
   "metadata": {},
   "outputs": [],
   "source": []
  },
  {
   "cell_type": "markdown",
   "metadata": {},
   "source": [
    "## Transformación\n",
    "\n",
    "Nuevas columnas calculadas, cambio de tipo de dato, eliminar una columna\n",
    "\n"
   ]
  },
  {
   "cell_type": "markdown",
   "metadata": {},
   "source": [
    "### Crear una columna calculada\n",
    "\n",
    "Podemos operar sobre las columnas para crear otras nuevas"
   ]
  },
  {
   "cell_type": "code",
   "execution_count": null,
   "metadata": {},
   "outputs": [],
   "source": [
    "# Hago una copia para no modificar el dataframe original\n",
    "alquiler_2 = alquiler.copy()\n",
    "\n",
    "alquiler_2['precio_90m'] = alquiler_2.precio * 90\n",
    "alquiler_2.head()"
   ]
  },
  {
   "cell_type": "markdown",
   "metadata": {},
   "source": [
    "Las operaciones que no se pueden lanzar directamente sobre la `Series` completa, la ejecutamos por elemento utilizando `apply`"
   ]
  },
  {
   "cell_type": "code",
   "execution_count": null,
   "metadata": {},
   "outputs": [],
   "source": [
    "# Fíjate bien en la función lambda, es una función en una sola línea\n",
    "alquiler_2['ano_quarter'] = alquiler_2.apply(lambda fila: str(fila.ano) + 'Q' + str(fila.quarter), axis=1)\n",
    "alquiler_2.head()"
   ]
  },
  {
   "cell_type": "markdown",
   "metadata": {},
   "source": [
    "#### Ejercicio\n",
    "\n",
    "Crea una nueva columna `precio_120m` sobre `alquiler_2` que represente el precio de 120 metros cuadrados, pero utilizando `apply` y una función `lambda`."
   ]
  },
  {
   "cell_type": "code",
   "execution_count": null,
   "metadata": {},
   "outputs": [],
   "source": []
  },
  {
   "cell_type": "markdown",
   "metadata": {},
   "source": [
    "### Renombrar una columna\n",
    "\n",
    "Fíjate en la documentación de `rename` y sus ejemplos, [aquí](https://pandas.pydata.org/pandas-docs/stable/reference/api/pandas.DataFrame.rename.html).\n",
    "\n",
    "Por ejemplo, para renombrar la columna `precio_90m` a `precio_90_metros` sería:"
   ]
  },
  {
   "cell_type": "code",
   "execution_count": null,
   "metadata": {},
   "outputs": [],
   "source": [
    "alquiler_2 = alquiler_2.rename(columns={'precio_90m': 'precio_90_metros'})\n",
    "alquiler_2.head()"
   ]
  },
  {
   "cell_type": "markdown",
   "metadata": {},
   "source": [
    "Fíjate en el ejemplo anterior. En general, las funciones de `pandas` crean un nuevo objeto con el resultado de la operación, pero no modifican el actual. En estas funciones, suele haber un parámetro `inplace` con valor por defecto a `False`. Si lo ponemos a `True`, la operación se realiza sobre el objeto que pasamos por parámetro."
   ]
  },
  {
   "cell_type": "markdown",
   "metadata": {},
   "source": [
    "#### La importancia de la nomenclatura\n",
    "\n",
    "Tener buenos nombres de columnas en un DataFrame es importante. Hará mucho más legible nuestro código si nuestras columnas tienen nombres descriptivos, sin caracteres extraños y separados por `_`.\n",
    "\n",
    "Unos cuantos ejemplos de malos nombres:\n",
    "\n",
    "* `col1`, `col2`, ..., `colN`: no sabemos qué es cada cosa.\n",
    "* `precio euros`, `metros cuadrados`: los espacios dificultan escribir código. Por ejemplo, ya no podremos acceder a las columnas con la notación `dataframe.columna`.\n",
    "* `año`, `variación`, `precio_€`: los caracteres no-asciii (que no son letras no acentuadas ni números) pueden dar problemas al compartir código (p.e. entre Linux y Windows), al exportar / importar, etc. Es mejor evitarlos.\n",
    "* `PrecioEuros`, `MetrosCuadrados`: aunque es más sutil, el estándar en Python es escribir en snake_case. Es decir, utilizando minúsculas y usando `_` para separar palabras.\n",
    "\n",
    "Ejemplo de buenos nombres:\n",
    "\n",
    "* `distrito`, `precio_euros`, `metros_cuadrados`"
   ]
  },
  {
   "cell_type": "markdown",
   "metadata": {},
   "source": [
    "### Eliminar una columna\n",
    "\n",
    "Podemos utilizar [`drop`](https://pandas.pydata.org/pandas-docs/stable/reference/api/pandas.DataFrame.drop.html).\n",
    "\n",
    "Por ejemplo:"
   ]
  },
  {
   "cell_type": "code",
   "execution_count": null,
   "metadata": {},
   "outputs": [],
   "source": [
    "alquiler_2 = alquiler_2.drop(columns=['precio_90_metros'])\n",
    "alquiler_2.head()"
   ]
  },
  {
   "cell_type": "markdown",
   "metadata": {},
   "source": [
    "#### Cambiar el tipo de dato\n",
    "\n",
    "Vamos a crear un DataFrame muy simple para verlo."
   ]
  },
  {
   "cell_type": "code",
   "execution_count": null,
   "metadata": {},
   "outputs": [],
   "source": [
    "prueba = pd.DataFrame({'precio': ['10.50', '15.35', '22.15']})\n",
    "prueba"
   ]
  },
  {
   "cell_type": "code",
   "execution_count": null,
   "metadata": {},
   "outputs": [],
   "source": [
    "prueba.dtypes"
   ]
  },
  {
   "cell_type": "markdown",
   "metadata": {},
   "source": [
    "Tenemos un DataFrame con precios, pero estos son cadenas de texto en lugar de números. Esto va a limitar nuestro análisis: no podremos ejecutar operaciones aritméticas, calcular medias, etc.\n",
    "\n",
    "Es muy habitual que esto pase en el momento de cargar unos datos. Veremos más adelante cómo solucionar problemas al cargar CSVs de habla española, que utilizan la coma como separador decimal en lugar del punto, que es el que entiende Python (y, en general, todos los lenguajes de programación).\n",
    "\n",
    "Sobre nuestro ejemplo actual `prueba`, podemos usar [`astype`](https://pandas.pydata.org/pandas-docs/stable/reference/api/pandas.DataFrame.astype.html) para convertir la columna a numérica. En este caso, como es numérica con decimales, usaremos el tipo `float`."
   ]
  },
  {
   "cell_type": "code",
   "execution_count": null,
   "metadata": {},
   "outputs": [],
   "source": [
    "prueba['precio'] = prueba.precio.astype(float)\n",
    "prueba.dtypes"
   ]
  },
  {
   "cell_type": "markdown",
   "metadata": {},
   "source": [
    "## Resumen estadístico\n",
    "\n",
    "Pandas provee una serie de funciones de resumen estadístico que podemos aplicar sobre una columna concreta, o sobre todas las del DataFrame."
   ]
  },
  {
   "cell_type": "markdown",
   "metadata": {},
   "source": [
    "Para un resumen para todas las columnas de número de filas, media, desviación estándar, cuartiles, ... usamos [`describe`](https://pandas.pydata.org/pandas-docs/stable/generated/pandas.DataFrame.describe.html)"
   ]
  },
  {
   "cell_type": "code",
   "execution_count": null,
   "metadata": {},
   "outputs": [],
   "source": [
    "alquiler.describe()"
   ]
  },
  {
   "cell_type": "markdown",
   "metadata": {},
   "source": [
    "Podemos utilizar también `sum`, `mean`, `std`, `count`, `min`, `max`, ... sobre el DataFrame o una columna en concreto"
   ]
  },
  {
   "cell_type": "code",
   "execution_count": null,
   "metadata": {},
   "outputs": [],
   "source": [
    "alquiler.mean()"
   ]
  },
  {
   "cell_type": "code",
   "execution_count": null,
   "metadata": {},
   "outputs": [],
   "source": [
    "alquiler.precio.max()"
   ]
  },
  {
   "cell_type": "markdown",
   "metadata": {},
   "source": [
    "#### Ejercicio\n",
    "\n",
    "Extrae los cuantiles 0.1 y 0.9 del precio para el distrito `Tetuan`."
   ]
  },
  {
   "cell_type": "code",
   "execution_count": null,
   "metadata": {},
   "outputs": [],
   "source": []
  },
  {
   "cell_type": "markdown",
   "metadata": {},
   "source": [
    "## Agrupación\n",
    "\n",
    "De una forma equivalente a como hacemos en SQL, podemos agregar las tablas y sacar resúmenes de los grupos. La operación en pandas se hace en dos fases:\n",
    "\n",
    "* El `groupby`: donde especificamos la o las columnas por las que agregar\n",
    "* La aplicación de la función de agregación sobre una o varias columnas"
   ]
  },
  {
   "cell_type": "markdown",
   "metadata": {},
   "source": [
    "Un resumen usando una función de agregación sobre todas las columnas del DataFrame"
   ]
  },
  {
   "cell_type": "code",
   "execution_count": null,
   "metadata": {},
   "outputs": [],
   "source": [
    "alquiler.groupby('ano').max()\n",
    "\n",
    "# Atención, fíjate bien en lo que hace esto. Saca el valor máximo de distrito (alfabéticamente),\n",
    "#  de quarter y precio (numéricamente), pero no representa filas completas\n",
    "# Es decir, Villaverde en el quarter 4 no tuvo ese precio"
   ]
  },
  {
   "cell_type": "markdown",
   "metadata": {},
   "source": [
    "Para hacerlo únicamente sobre una columna:"
   ]
  },
  {
   "cell_type": "code",
   "execution_count": null,
   "metadata": {},
   "outputs": [],
   "source": [
    "alquiler.groupby('ano').precio.min()"
   ]
  },
  {
   "cell_type": "markdown",
   "metadata": {},
   "source": [
    "Para aplicar diferentes resúmenes sobre diferentes columnas"
   ]
  },
  {
   "cell_type": "code",
   "execution_count": null,
   "metadata": {},
   "outputs": [],
   "source": [
    "tmp = alquiler.groupby('ano').agg({'precio': 'mean', 'distrito': 'first'})\n",
    "tmp.head()"
   ]
  },
  {
   "cell_type": "markdown",
   "metadata": {},
   "source": [
    "#### Ejercicio\n",
    "\n",
    "Extrae el precio máximo histórico para cada distrito a partir del 2010"
   ]
  },
  {
   "cell_type": "code",
   "execution_count": null,
   "metadata": {},
   "outputs": [],
   "source": []
  },
  {
   "cell_type": "markdown",
   "metadata": {},
   "source": [
    "Puedes ver más información sobre agrupaciones en la [documentación de pandas](https://pandas.pydata.org/pandas-docs/stable/groupby.html). Es especialmente útil la parte sobre transformaciones."
   ]
  },
  {
   "cell_type": "markdown",
   "metadata": {},
   "source": [
    "## Cruce\n",
    "\n",
    "Podemos cruzar dos tablas por una o varias columnas en pandas, de forma equivalente a como hacemos en SQL, con [`merge`](https://pandas.pydata.org/pandas-docs/stable/generated/pandas.DataFrame.merge.html). También podemos usar los distintos tipos de cruce:\n",
    "\n",
    "* `inner`: para obtener solamente los registros que crucen en ambas tablas\n",
    "* `left` o `right`: para mantener los registros de una de las dos tablas, crucen o no con la otra\n",
    "* `outer`: para manter los registros de ambas tablas, crucen o no"
   ]
  },
  {
   "cell_type": "code",
   "execution_count": null,
   "metadata": {},
   "outputs": [],
   "source": [
    "# Aquí, además, un ejemplo de cómo crear un dataframe a partir de un diccionario\n",
    "df_ejemplo = pd.DataFrame({'distrito':  ['Moratalaz', 'Centro', 'Barajas'],\n",
    "                           'poblacion': [95000, 150000, 46000]})\n",
    "df_ejemplo"
   ]
  },
  {
   "cell_type": "code",
   "execution_count": null,
   "metadata": {},
   "outputs": [],
   "source": [
    "tmp = df_ejemplo.merge(alquiler, on='distrito')\n",
    "tmp.head()"
   ]
  },
  {
   "cell_type": "code",
   "execution_count": null,
   "metadata": {},
   "outputs": [],
   "source": [
    "len(tmp)"
   ]
  },
  {
   "cell_type": "code",
   "execution_count": null,
   "metadata": {},
   "outputs": [],
   "source": [
    "tmp = df_ejemplo.merge(alquiler, on='distrito', how='right')\n",
    "tmp.tail()"
   ]
  },
  {
   "cell_type": "code",
   "execution_count": null,
   "metadata": {},
   "outputs": [],
   "source": [
    "len(tmp)"
   ]
  },
  {
   "cell_type": "markdown",
   "metadata": {},
   "source": [
    "#### Ejercicio\n",
    "\n",
    "* Carga en un DataFrame el CSV `dat/venta-madrid-distritos.csv`\n",
    "* Crúzalo con el que ya tenemos de alquiler. El objetivo es tener, para cada distrito, año y cuatrimestre, tanto el precio de alquiler como el de venta del metro cuadrado. Para saber cómo poner sufijos a las columnas que colisionan en el cruce, mira la documentación de `merge`.\n",
    "* Extrae los precios medios de venta y alquiler por distrito para todo el histórico\n",
    "* Extrae, para el año y cuatrimestre más reciente del que haya datos, el distrito donde es más rentable comprar una vivienda para destinarla a alquiler. Es decir, con el ratio precio alquiler / precio venta más alto."
   ]
  },
  {
   "cell_type": "code",
   "execution_count": null,
   "metadata": {},
   "outputs": [],
   "source": []
  }
 ],
 "metadata": {
  "kernelspec": {
   "display_name": "Python 3",
   "language": "python",
   "name": "python3"
  },
  "language_info": {
   "codemirror_mode": {
    "name": "ipython",
    "version": 3
   },
   "file_extension": ".py",
   "mimetype": "text/x-python",
   "name": "python",
   "nbconvert_exporter": "python",
   "pygments_lexer": "ipython3",
   "version": "3.8.3"
  }
 },
 "nbformat": 4,
 "nbformat_minor": 2
}
